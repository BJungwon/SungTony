{
 "cells": [
  {
   "cell_type": "markdown",
   "id": "940e0b5a",
   "metadata": {},
   "source": [
    "# The Metropolitan Museum of Art Data Analysis and Visualization"
   ]
  },
  {
   "cell_type": "markdown",
   "id": "dfea2001",
   "metadata": {},
   "source": [
    "### Analyze and Visualize Artists and Artworks Metadata  \n",
    "\n",
    "- Kaggle data: https://www.kaggle.com/metmuseum/the-metropolitan-museum-of-art-open-access  \n",
    "- Total number of artists: 56,390  \n",
    "- Total number of artworks: 448,203\n",
    "\n",
    "#### Analysis Point\n",
    "\n",
    "- Artists\n",
    "    - Top 3 nationality?\n",
    "    - Date of birth histogram?\n",
    "    - Top artists with the most artworks?\n",
    "    \n",
    "- Artworks\n",
    "    - Which media have the top collection?\n",
    "    - Which classifications have the top collection?\n",
    "    - Which departments have the top collection?"
   ]
  },
  {
   "cell_type": "markdown",
   "id": "0a99b859",
   "metadata": {},
   "source": [
    "## 1. Imports"
   ]
  },
  {
   "cell_type": "code",
   "execution_count": 1,
   "id": "01077804",
   "metadata": {},
   "outputs": [],
   "source": [
    "import pandas as pd\n",
    "import numpy as np\n",
    "import matplotlib.pyplot as plt\n",
    "import seaborn as sns"
   ]
  },
  {
   "cell_type": "markdown",
   "id": "50a21264",
   "metadata": {},
   "source": [
    "## 2. Chart utils"
   ]
  },
  {
   "cell_type": "code",
   "execution_count": 2,
   "id": "1ff4424c",
   "metadata": {},
   "outputs": [],
   "source": [
    "def plot_pie_chart(values, labels, title):\n",
    "    fig1, ax1 = plt.subplots()\n",
    "    ax1.pie(values, labels=labels, autopct='%1.1f%%', shadow=True)\n",
    "    plt.title(title, size=14, pad=15)\n",
    "\n",
    "    plt.show()"
   ]
  },
  {
   "cell_type": "code",
   "execution_count": 3,
   "id": "ff3ba3bb",
   "metadata": {},
   "outputs": [],
   "source": [
    "def plot_bar_chart(df, column, figsize=(10,5), title=None):\n",
    "    counts = df[column].value_counts()[:10]\n",
    "    plt.figure(figsize=figsize)\n",
    "    sns.barplot(counts.values, counts.index)\n",
    "    plt.xlabel('Number of artworks', size=14, labelpad=15)\n",
    "    plt.xticks(rotation=0)\n",
    "    plt.ylabel(column, size=14)\n",
    "    plt.title(title, size=14, pad=15)\n",
    "    plt.show()"
   ]
  },
  {
   "cell_type": "markdown",
   "id": "9a361846",
   "metadata": {},
   "source": [
    "## 3. Create Dataframe"
   ]
  },
  {
   "cell_type": "code",
   "execution_count": 4,
   "id": "0ff6dc84",
   "metadata": {
    "scrolled": true
   },
   "outputs": [
    {
     "name": "stderr",
     "output_type": "stream",
     "text": [
      "/Users/jungwon/opt/anaconda3/lib/python3.8/site-packages/IPython/core/interactiveshell.py:3165: DtypeWarning: Columns (7,8,9,10,11,18,27,28,29,30,31,32,33,34,35,36,37,39) have mixed types.Specify dtype option on import or set low_memory=False.\n",
      "  has_raised = await self.run_ast_nodes(code_ast.body, cell_name,\n"
     ]
    }
   ],
   "source": [
    "met_art = pd.read_csv('./MetObjects.csv')"
   ]
  },
  {
   "cell_type": "code",
   "execution_count": 5,
   "id": "c13b70df",
   "metadata": {
    "scrolled": false
   },
   "outputs": [
    {
     "data": {
      "text/html": [
       "<div>\n",
       "<style scoped>\n",
       "    .dataframe tbody tr th:only-of-type {\n",
       "        vertical-align: middle;\n",
       "    }\n",
       "\n",
       "    .dataframe tbody tr th {\n",
       "        vertical-align: top;\n",
       "    }\n",
       "\n",
       "    .dataframe thead th {\n",
       "        text-align: right;\n",
       "    }\n",
       "</style>\n",
       "<table border=\"1\" class=\"dataframe\">\n",
       "  <thead>\n",
       "    <tr style=\"text-align: right;\">\n",
       "      <th></th>\n",
       "      <th>Object Number</th>\n",
       "      <th>Is Highlight</th>\n",
       "      <th>Is Public Domain</th>\n",
       "      <th>Object ID</th>\n",
       "      <th>Department</th>\n",
       "      <th>Object Name</th>\n",
       "      <th>Title</th>\n",
       "      <th>Culture</th>\n",
       "      <th>Period</th>\n",
       "      <th>Dynasty</th>\n",
       "      <th>...</th>\n",
       "      <th>Subregion</th>\n",
       "      <th>Locale</th>\n",
       "      <th>Locus</th>\n",
       "      <th>Excavation</th>\n",
       "      <th>River</th>\n",
       "      <th>Classification</th>\n",
       "      <th>Rights and Reproduction</th>\n",
       "      <th>Link Resource</th>\n",
       "      <th>Metadata Date</th>\n",
       "      <th>Repository</th>\n",
       "    </tr>\n",
       "  </thead>\n",
       "  <tbody>\n",
       "    <tr>\n",
       "      <th>0</th>\n",
       "      <td>1979.486.1</td>\n",
       "      <td>False</td>\n",
       "      <td>False</td>\n",
       "      <td>1</td>\n",
       "      <td>American Decorative Arts</td>\n",
       "      <td>Coin</td>\n",
       "      <td>One-dollar Liberty Head Coin</td>\n",
       "      <td>NaN</td>\n",
       "      <td>NaN</td>\n",
       "      <td>NaN</td>\n",
       "      <td>...</td>\n",
       "      <td>NaN</td>\n",
       "      <td>NaN</td>\n",
       "      <td>NaN</td>\n",
       "      <td>NaN</td>\n",
       "      <td>NaN</td>\n",
       "      <td>Metal</td>\n",
       "      <td>NaN</td>\n",
       "      <td>http://www.metmuseum.org/art/collection/search/1</td>\n",
       "      <td>4/3/2017 8:00:08 AM</td>\n",
       "      <td>Metropolitan Museum of Art, New York, NY</td>\n",
       "    </tr>\n",
       "    <tr>\n",
       "      <th>1</th>\n",
       "      <td>1980.264.5</td>\n",
       "      <td>False</td>\n",
       "      <td>False</td>\n",
       "      <td>2</td>\n",
       "      <td>American Decorative Arts</td>\n",
       "      <td>Coin</td>\n",
       "      <td>Ten-dollar Liberty Head Coin</td>\n",
       "      <td>NaN</td>\n",
       "      <td>NaN</td>\n",
       "      <td>NaN</td>\n",
       "      <td>...</td>\n",
       "      <td>NaN</td>\n",
       "      <td>NaN</td>\n",
       "      <td>NaN</td>\n",
       "      <td>NaN</td>\n",
       "      <td>NaN</td>\n",
       "      <td>Metal</td>\n",
       "      <td>NaN</td>\n",
       "      <td>http://www.metmuseum.org/art/collection/search/2</td>\n",
       "      <td>4/3/2017 8:00:08 AM</td>\n",
       "      <td>Metropolitan Museum of Art, New York, NY</td>\n",
       "    </tr>\n",
       "    <tr>\n",
       "      <th>2</th>\n",
       "      <td>67.265.9</td>\n",
       "      <td>False</td>\n",
       "      <td>False</td>\n",
       "      <td>3</td>\n",
       "      <td>American Decorative Arts</td>\n",
       "      <td>Coin</td>\n",
       "      <td>Two-and-a-Half Dollar Coin</td>\n",
       "      <td>NaN</td>\n",
       "      <td>NaN</td>\n",
       "      <td>NaN</td>\n",
       "      <td>...</td>\n",
       "      <td>NaN</td>\n",
       "      <td>NaN</td>\n",
       "      <td>NaN</td>\n",
       "      <td>NaN</td>\n",
       "      <td>NaN</td>\n",
       "      <td>Metal</td>\n",
       "      <td>NaN</td>\n",
       "      <td>http://www.metmuseum.org/art/collection/search/3</td>\n",
       "      <td>4/3/2017 8:00:08 AM</td>\n",
       "      <td>Metropolitan Museum of Art, New York, NY</td>\n",
       "    </tr>\n",
       "    <tr>\n",
       "      <th>3</th>\n",
       "      <td>67.265.10</td>\n",
       "      <td>False</td>\n",
       "      <td>False</td>\n",
       "      <td>4</td>\n",
       "      <td>American Decorative Arts</td>\n",
       "      <td>Coin</td>\n",
       "      <td>Two-and-a-Half Dollar Coin</td>\n",
       "      <td>NaN</td>\n",
       "      <td>NaN</td>\n",
       "      <td>NaN</td>\n",
       "      <td>...</td>\n",
       "      <td>NaN</td>\n",
       "      <td>NaN</td>\n",
       "      <td>NaN</td>\n",
       "      <td>NaN</td>\n",
       "      <td>NaN</td>\n",
       "      <td>Metal</td>\n",
       "      <td>NaN</td>\n",
       "      <td>http://www.metmuseum.org/art/collection/search/4</td>\n",
       "      <td>4/3/2017 8:00:08 AM</td>\n",
       "      <td>Metropolitan Museum of Art, New York, NY</td>\n",
       "    </tr>\n",
       "    <tr>\n",
       "      <th>4</th>\n",
       "      <td>67.265.11</td>\n",
       "      <td>False</td>\n",
       "      <td>False</td>\n",
       "      <td>5</td>\n",
       "      <td>American Decorative Arts</td>\n",
       "      <td>Coin</td>\n",
       "      <td>Two-and-a-Half Dollar Coin</td>\n",
       "      <td>NaN</td>\n",
       "      <td>NaN</td>\n",
       "      <td>NaN</td>\n",
       "      <td>...</td>\n",
       "      <td>NaN</td>\n",
       "      <td>NaN</td>\n",
       "      <td>NaN</td>\n",
       "      <td>NaN</td>\n",
       "      <td>NaN</td>\n",
       "      <td>Metal</td>\n",
       "      <td>NaN</td>\n",
       "      <td>http://www.metmuseum.org/art/collection/search/5</td>\n",
       "      <td>4/3/2017 8:00:08 AM</td>\n",
       "      <td>Metropolitan Museum of Art, New York, NY</td>\n",
       "    </tr>\n",
       "  </tbody>\n",
       "</table>\n",
       "<p>5 rows × 43 columns</p>\n",
       "</div>"
      ],
      "text/plain": [
       "  Object Number  Is Highlight  Is Public Domain  Object ID  \\\n",
       "0    1979.486.1         False             False          1   \n",
       "1    1980.264.5         False             False          2   \n",
       "2      67.265.9         False             False          3   \n",
       "3     67.265.10         False             False          4   \n",
       "4     67.265.11         False             False          5   \n",
       "\n",
       "                 Department Object Name                         Title Culture  \\\n",
       "0  American Decorative Arts        Coin  One-dollar Liberty Head Coin     NaN   \n",
       "1  American Decorative Arts        Coin  Ten-dollar Liberty Head Coin     NaN   \n",
       "2  American Decorative Arts        Coin    Two-and-a-Half Dollar Coin     NaN   \n",
       "3  American Decorative Arts        Coin    Two-and-a-Half Dollar Coin     NaN   \n",
       "4  American Decorative Arts        Coin    Two-and-a-Half Dollar Coin     NaN   \n",
       "\n",
       "  Period Dynasty  ... Subregion Locale Locus Excavation River Classification  \\\n",
       "0    NaN     NaN  ...       NaN    NaN   NaN        NaN   NaN          Metal   \n",
       "1    NaN     NaN  ...       NaN    NaN   NaN        NaN   NaN          Metal   \n",
       "2    NaN     NaN  ...       NaN    NaN   NaN        NaN   NaN          Metal   \n",
       "3    NaN     NaN  ...       NaN    NaN   NaN        NaN   NaN          Metal   \n",
       "4    NaN     NaN  ...       NaN    NaN   NaN        NaN   NaN          Metal   \n",
       "\n",
       "  Rights and Reproduction                                     Link Resource  \\\n",
       "0                     NaN  http://www.metmuseum.org/art/collection/search/1   \n",
       "1                     NaN  http://www.metmuseum.org/art/collection/search/2   \n",
       "2                     NaN  http://www.metmuseum.org/art/collection/search/3   \n",
       "3                     NaN  http://www.metmuseum.org/art/collection/search/4   \n",
       "4                     NaN  http://www.metmuseum.org/art/collection/search/5   \n",
       "\n",
       "         Metadata Date                                Repository  \n",
       "0  4/3/2017 8:00:08 AM  Metropolitan Museum of Art, New York, NY  \n",
       "1  4/3/2017 8:00:08 AM  Metropolitan Museum of Art, New York, NY  \n",
       "2  4/3/2017 8:00:08 AM  Metropolitan Museum of Art, New York, NY  \n",
       "3  4/3/2017 8:00:08 AM  Metropolitan Museum of Art, New York, NY  \n",
       "4  4/3/2017 8:00:08 AM  Metropolitan Museum of Art, New York, NY  \n",
       "\n",
       "[5 rows x 43 columns]"
      ]
     },
     "execution_count": 5,
     "metadata": {},
     "output_type": "execute_result"
    }
   ],
   "source": [
    "met_art.head()"
   ]
  },
  {
   "cell_type": "code",
   "execution_count": 6,
   "id": "72692e60",
   "metadata": {
    "scrolled": true
   },
   "outputs": [
    {
     "data": {
      "text/plain": [
       "(448203, 43)"
      ]
     },
     "execution_count": 6,
     "metadata": {},
     "output_type": "execute_result"
    }
   ],
   "source": [
    "met_art.shape"
   ]
  },
  {
   "cell_type": "code",
   "execution_count": 7,
   "id": "62157478",
   "metadata": {},
   "outputs": [
    {
     "name": "stdout",
     "output_type": "stream",
     "text": [
      "<class 'pandas.core.frame.DataFrame'>\n",
      "RangeIndex: 448203 entries, 0 to 448202\n",
      "Data columns (total 43 columns):\n",
      " #   Column                   Non-Null Count   Dtype \n",
      "---  ------                   --------------   ----- \n",
      " 0   Object Number            448203 non-null  object\n",
      " 1   Is Highlight             448203 non-null  bool  \n",
      " 2   Is Public Domain         448203 non-null  bool  \n",
      " 3   Object ID                448203 non-null  int64 \n",
      " 4   Department               448203 non-null  object\n",
      " 5   Object Name              445568 non-null  object\n",
      " 6   Title                    416906 non-null  object\n",
      " 7   Culture                  186518 non-null  object\n",
      " 8   Period                   71882 non-null   object\n",
      " 9   Dynasty                  23018 non-null   object\n",
      " 10  Reign                    10817 non-null   object\n",
      " 11  Portfolio                20370 non-null   object\n",
      " 12  Artist Role              259909 non-null  object\n",
      " 13  Artist Prefix            88928 non-null   object\n",
      " 14  Artist Display Name      261111 non-null  object\n",
      " 15  Artist Display Bio       224064 non-null  object\n",
      " 16  Artist Suffix            10212 non-null   object\n",
      " 17  Artist Alpha Sort        261088 non-null  object\n",
      " 18  Artist Nationality       196132 non-null  object\n",
      " 19  Artist Begin Date        215234 non-null  object\n",
      " 20  Artist End Date          212825 non-null  object\n",
      " 21  Object Date              432609 non-null  object\n",
      " 22  Object Begin Date        448203 non-null  int64 \n",
      " 23  Object End Date          448203 non-null  int64 \n",
      " 24  Medium                   440155 non-null  object\n",
      " 25  Dimensions               385360 non-null  object\n",
      " 26  Credit Line              447533 non-null  object\n",
      " 27  Geography Type           58463 non-null   object\n",
      " 28  City                     30520 non-null   object\n",
      " 29  State                    8360 non-null    object\n",
      " 30  County                   2488 non-null    object\n",
      " 31  Country                  74450 non-null   object\n",
      " 32  Region                   31078 non-null   object\n",
      " 33  Subregion                21716 non-null   object\n",
      " 34  Locale                   15095 non-null   object\n",
      " 35  Locus                    6939 non-null    object\n",
      " 36  Excavation               15519 non-null   object\n",
      " 37  River                    2103 non-null    object\n",
      " 38  Classification           389924 non-null  object\n",
      " 39  Rights and Reproduction  22975 non-null   object\n",
      " 40  Link Resource            448203 non-null  object\n",
      " 41  Metadata Date            448203 non-null  object\n",
      " 42  Repository               448203 non-null  object\n",
      "dtypes: bool(2), int64(3), object(38)\n",
      "memory usage: 141.1+ MB\n"
     ]
    }
   ],
   "source": [
    "met_art.info()"
   ]
  },
  {
   "cell_type": "markdown",
   "id": "150f28cc",
   "metadata": {},
   "source": [
    "## 4. Missing Values"
   ]
  },
  {
   "cell_type": "markdown",
   "id": "f87d7b39",
   "metadata": {},
   "source": [
    "결측값이 많지만, ML 모델을 학습시키는데 메타데이터를 사용하지 않기 때문에 괜찮다"
   ]
  },
  {
   "cell_type": "code",
   "execution_count": 11,
   "id": "0f7f2bb2",
   "metadata": {},
   "outputs": [
    {
     "data": {
      "text/plain": [
       "10"
      ]
     },
     "execution_count": 11,
     "metadata": {},
     "output_type": "execute_result"
    }
   ],
   "source": [
    "# 결측값이 없는 컬럼만 추출\n",
    "no_nulls = set(met_art.columns[met_art.isnull().mean()==0])\n",
    "# 결측값이 0인 컬럼의 갯수\n",
    "len(no_nulls)"
   ]
  },
  {
   "cell_type": "markdown",
   "id": "c9f7c769",
   "metadata": {},
   "source": [
    "42개 중 23개 컬럼이 50% 이상의 결측값을 갖는다"
   ]
  },
  {
   "cell_type": "code",
   "execution_count": 12,
   "id": "3cc60cde",
   "metadata": {
    "scrolled": true
   },
   "outputs": [
    {
     "name": "stdout",
     "output_type": "stream",
     "text": [
      "23\n",
      "{'Artist Begin Date', 'River', 'Country', 'Artist Nationality', 'Subregion', 'Culture', 'City', 'Period', 'Locus', 'Artist End Date', 'Artist Prefix', 'County', 'Locale', 'Excavation', 'Reign', 'Region', 'Portfolio', 'Artist Display Bio', 'State', 'Dynasty', 'Geography Type', 'Artist Suffix', 'Rights and Reproduction'}\n"
     ]
    }
   ],
   "source": [
    "missing_cols = set(met_art.columns[met_art.isnull().mean() > 0.50])\n",
    "print(len(missing_cols))\n",
    "print(missing_cols)"
   ]
  },
  {
   "cell_type": "markdown",
   "id": "6a395d76",
   "metadata": {},
   "source": [
    "42개 중 18개 컬럼이 75% 이상의 결측값을 갖는다"
   ]
  },
  {
   "cell_type": "code",
   "execution_count": 13,
   "id": "93d0b7f4",
   "metadata": {},
   "outputs": [
    {
     "name": "stdout",
     "output_type": "stream",
     "text": [
      "18\n",
      "{'Country', 'Region', 'City', 'Artist Prefix', 'Portfolio', 'Excavation', 'County', 'Rights and Reproduction', 'River', 'State', 'Locus', 'Locale', 'Dynasty', 'Period', 'Subregion', 'Geography Type', 'Artist Suffix', 'Reign'}\n"
     ]
    }
   ],
   "source": [
    "missing_cols = set(met_art.columns[met_art.isnull().mean() > 0.75])\n",
    "print(len(missing_cols))\n",
    "print(missing_cols)"
   ]
  },
  {
   "cell_type": "markdown",
   "id": "36a0c721",
   "metadata": {},
   "source": [
    "결측값이 75%를 넘는 컬럼의 목록"
   ]
  },
  {
   "cell_type": "code",
   "execution_count": 14,
   "id": "d8bd0742",
   "metadata": {},
   "outputs": [
    {
     "name": "stdout",
     "output_type": "stream",
     "text": [
      "Country\n",
      "Region\n",
      "City\n",
      "Artist Prefix\n",
      "Portfolio\n",
      "Excavation\n",
      "County\n",
      "Rights and Reproduction\n",
      "River\n",
      "State\n",
      "Locus\n",
      "Locale\n",
      "Dynasty\n",
      "Period\n",
      "Subregion\n",
      "Geography Type\n",
      "Artist Suffix\n",
      "Reign\n"
     ]
    }
   ],
   "source": [
    "# See the list of columns with mostly (>75%) missing values\n",
    "for col in missing_cols:\n",
    "    print(col)"
   ]
  },
  {
   "cell_type": "markdown",
   "id": "ed99d7f6",
   "metadata": {},
   "source": [
    "결측값이 많은 순서대로 컬럼과 결측값 수 정렬"
   ]
  },
  {
   "cell_type": "code",
   "execution_count": 15,
   "id": "8641d1d5",
   "metadata": {},
   "outputs": [
    {
     "data": {
      "text/plain": [
       "River                      446100\n",
       "County                     445715\n",
       "Locus                      441264\n",
       "State                      439843\n",
       "Artist Suffix              437991\n",
       "Reign                      437386\n",
       "Locale                     433108\n",
       "Excavation                 432684\n",
       "Portfolio                  427833\n",
       "Subregion                  426487\n",
       "Rights and Reproduction    425228\n",
       "Dynasty                    425185\n",
       "City                       417683\n",
       "Region                     417125\n",
       "Geography Type             389740\n",
       "Period                     376321\n",
       "Country                    373753\n",
       "Artist Prefix              359275\n",
       "Culture                    261685\n",
       "Artist Nationality         252071\n",
       "Artist End Date            235378\n",
       "Artist Begin Date          232969\n",
       "Artist Display Bio         224139\n",
       "Artist Role                188294\n",
       "Artist Alpha Sort          187115\n",
       "Artist Display Name        187092\n",
       "Dimensions                  62843\n",
       "Classification              58279\n",
       "Title                       31297\n",
       "Object Date                 15594\n",
       "Medium                       8048\n",
       "Object Name                  2635\n",
       "Credit Line                   670\n",
       "Link Resource                   0\n",
       "Metadata Date                   0\n",
       "Object Number                   0\n",
       "Object End Date                 0\n",
       "Object Begin Date               0\n",
       "Is Highlight                    0\n",
       "Department                      0\n",
       "Object ID                       0\n",
       "Is Public Domain                0\n",
       "Repository                      0\n",
       "dtype: int64"
      ]
     },
     "execution_count": 15,
     "metadata": {},
     "output_type": "execute_result"
    }
   ],
   "source": [
    "met_art.isnull().sum().sort_values(ascending=False)"
   ]
  },
  {
   "cell_type": "markdown",
   "id": "60ea9ba6",
   "metadata": {},
   "source": [
    "## 5. Artists"
   ]
  },
  {
   "cell_type": "markdown",
   "id": "4d6b0dfe",
   "metadata": {},
   "source": [
    "### Artist Nationality"
   ]
  },
  {
   "cell_type": "markdown",
   "id": "024ac56b",
   "metadata": {},
   "source": [
    "작가 국적의 상위 3은, American 66.8%, French 19.8&, Italian 13.4% 순이다"
   ]
  },
  {
   "cell_type": "code",
   "execution_count": 16,
   "id": "2b2ae6c0",
   "metadata": {},
   "outputs": [
    {
     "data": {
      "text/plain": [
       "American                63137\n",
       "French                  18675\n",
       "Italian                 12658\n",
       "French|French            9163\n",
       "British                  8508\n",
       "American|American        7441\n",
       "German                   7365\n",
       "Japanese                 6259\n",
       "Italian|Italian          4528\n",
       "French|French|French     4148\n",
       "Name: Artist Nationality, dtype: int64"
      ]
     },
     "execution_count": 16,
     "metadata": {},
     "output_type": "execute_result"
    }
   ],
   "source": [
    "met_art['Artist Nationality'].value_counts()[:10]"
   ]
  },
  {
   "cell_type": "code",
   "execution_count": 17,
   "id": "adad3b86",
   "metadata": {},
   "outputs": [
    {
     "data": {
      "image/png": "[encoded data removed]",
      "text/plain": [
       "<Figure size 432x288 with 1 Axes>"
      ]
     },
     "metadata": {},
     "output_type": "display_data"
    }
   ],
   "source": [
    "values = met_art['Artist Nationality'].value_counts()[:3].values\n",
    "labels = met_art['Artist Nationality'].value_counts()[:3].index\n",
    "\n",
    "plot_pie_chart(values, labels, \"Top 3 Artists Nationality\")"
   ]
  },
  {
   "cell_type": "markdown",
   "id": "c07df3af",
   "metadata": {},
   "source": [
    "### Artist date of birth"
   ]
  },
  {
   "cell_type": "code",
   "execution_count": null,
   "id": "799097fd",
   "metadata": {},
   "outputs": [],
   "source": [
    "pd.to_numeric( )"
   ]
  },
  {
   "cell_type": "code",
   "execution_count": 35,
   "id": "deea1039",
   "metadata": {},
   "outputs": [
    {
     "ename": "TypeError",
     "evalue": "'value' must be an instance of str or bytes, not a float",
     "output_type": "error",
     "traceback": [
      "\u001b[0;31m---------------------------------------------------------------------------\u001b[0m",
      "\u001b[0;31mTypeError\u001b[0m                                 Traceback (most recent call last)",
      "\u001b[0;32m<ipython-input-35-2952a506ee05>\u001b[0m in \u001b[0;36m<module>\u001b[0;34m\u001b[0m\n\u001b[0;32m----> 1\u001b[0;31m \u001b[0mplt\u001b[0m\u001b[0;34m.\u001b[0m\u001b[0mhist\u001b[0m\u001b[0;34m(\u001b[0m\u001b[0mmet_art\u001b[0m\u001b[0;34m[\u001b[0m\u001b[0mmet_art\u001b[0m\u001b[0;34m[\u001b[0m\u001b[0;34m'Artist Begin Date'\u001b[0m\u001b[0;34m]\u001b[0m\u001b[0;34m!=\u001b[0m\u001b[0;36m0\u001b[0m\u001b[0;34m]\u001b[0m\u001b[0;34m[\u001b[0m\u001b[0;34m'Artist Begin Date'\u001b[0m\u001b[0;34m]\u001b[0m\u001b[0;34m)\u001b[0m\u001b[0;34m\u001b[0m\u001b[0;34m\u001b[0m\u001b[0m\n\u001b[0m\u001b[1;32m      2\u001b[0m \u001b[0mplt\u001b[0m\u001b[0;34m.\u001b[0m\u001b[0mtitle\u001b[0m\u001b[0;34m(\u001b[0m\u001b[0;34m'Number of Artists by Date of Birth'\u001b[0m\u001b[0;34m)\u001b[0m\u001b[0;34m\u001b[0m\u001b[0;34m\u001b[0m\u001b[0m\n\u001b[1;32m      3\u001b[0m \u001b[0mplt\u001b[0m\u001b[0;34m.\u001b[0m\u001b[0mshow\u001b[0m\u001b[0;34m(\u001b[0m\u001b[0;34m)\u001b[0m\u001b[0;34m\u001b[0m\u001b[0;34m\u001b[0m\u001b[0m\n",
      "\u001b[0;32m~/opt/anaconda3/lib/python3.8/site-packages/matplotlib/pyplot.py\u001b[0m in \u001b[0;36mhist\u001b[0;34m(x, bins, range, density, weights, cumulative, bottom, histtype, align, orientation, rwidth, log, color, label, stacked, data, **kwargs)\u001b[0m\n\u001b[1;32m   2683\u001b[0m         \u001b[0morientation\u001b[0m\u001b[0;34m=\u001b[0m\u001b[0;34m'vertical'\u001b[0m\u001b[0;34m,\u001b[0m \u001b[0mrwidth\u001b[0m\u001b[0;34m=\u001b[0m\u001b[0;32mNone\u001b[0m\u001b[0;34m,\u001b[0m \u001b[0mlog\u001b[0m\u001b[0;34m=\u001b[0m\u001b[0;32mFalse\u001b[0m\u001b[0;34m,\u001b[0m \u001b[0mcolor\u001b[0m\u001b[0;34m=\u001b[0m\u001b[0;32mNone\u001b[0m\u001b[0;34m,\u001b[0m\u001b[0;34m\u001b[0m\u001b[0;34m\u001b[0m\u001b[0m\n\u001b[1;32m   2684\u001b[0m         label=None, stacked=False, *, data=None, **kwargs):\n\u001b[0;32m-> 2685\u001b[0;31m     return gca().hist(\n\u001b[0m\u001b[1;32m   2686\u001b[0m         \u001b[0mx\u001b[0m\u001b[0;34m,\u001b[0m \u001b[0mbins\u001b[0m\u001b[0;34m=\u001b[0m\u001b[0mbins\u001b[0m\u001b[0;34m,\u001b[0m \u001b[0mrange\u001b[0m\u001b[0;34m=\u001b[0m\u001b[0mrange\u001b[0m\u001b[0;34m,\u001b[0m \u001b[0mdensity\u001b[0m\u001b[0;34m=\u001b[0m\u001b[0mdensity\u001b[0m\u001b[0;34m,\u001b[0m \u001b[0mweights\u001b[0m\u001b[0;34m=\u001b[0m\u001b[0mweights\u001b[0m\u001b[0;34m,\u001b[0m\u001b[0;34m\u001b[0m\u001b[0;34m\u001b[0m\u001b[0m\n\u001b[1;32m   2687\u001b[0m         \u001b[0mcumulative\u001b[0m\u001b[0;34m=\u001b[0m\u001b[0mcumulative\u001b[0m\u001b[0;34m,\u001b[0m \u001b[0mbottom\u001b[0m\u001b[0;34m=\u001b[0m\u001b[0mbottom\u001b[0m\u001b[0;34m,\u001b[0m \u001b[0mhisttype\u001b[0m\u001b[0;34m=\u001b[0m\u001b[0mhisttype\u001b[0m\u001b[0;34m,\u001b[0m\u001b[0;34m\u001b[0m\u001b[0;34m\u001b[0m\u001b[0m\n",
      "\u001b[0;32m~/opt/anaconda3/lib/python3.8/site-packages/matplotlib/__init__.py\u001b[0m in \u001b[0;36minner\u001b[0;34m(ax, data, *args, **kwargs)\u001b[0m\n\u001b[1;32m   1445\u001b[0m     \u001b[0;32mdef\u001b[0m \u001b[0minner\u001b[0m\u001b[0;34m(\u001b[0m\u001b[0max\u001b[0m\u001b[0;34m,\u001b[0m \u001b[0;34m*\u001b[0m\u001b[0margs\u001b[0m\u001b[0;34m,\u001b[0m \u001b[0mdata\u001b[0m\u001b[0;34m=\u001b[0m\u001b[0;32mNone\u001b[0m\u001b[0;34m,\u001b[0m \u001b[0;34m**\u001b[0m\u001b[0mkwargs\u001b[0m\u001b[0;34m)\u001b[0m\u001b[0;34m:\u001b[0m\u001b[0;34m\u001b[0m\u001b[0;34m\u001b[0m\u001b[0m\n\u001b[1;32m   1446\u001b[0m         \u001b[0;32mif\u001b[0m \u001b[0mdata\u001b[0m \u001b[0;32mis\u001b[0m \u001b[0;32mNone\u001b[0m\u001b[0;34m:\u001b[0m\u001b[0;34m\u001b[0m\u001b[0;34m\u001b[0m\u001b[0m\n\u001b[0;32m-> 1447\u001b[0;31m             \u001b[0;32mreturn\u001b[0m \u001b[0mfunc\u001b[0m\u001b[0;34m(\u001b[0m\u001b[0max\u001b[0m\u001b[0;34m,\u001b[0m \u001b[0;34m*\u001b[0m\u001b[0mmap\u001b[0m\u001b[0;34m(\u001b[0m\u001b[0msanitize_sequence\u001b[0m\u001b[0;34m,\u001b[0m \u001b[0margs\u001b[0m\u001b[0;34m)\u001b[0m\u001b[0;34m,\u001b[0m \u001b[0;34m**\u001b[0m\u001b[0mkwargs\u001b[0m\u001b[0;34m)\u001b[0m\u001b[0;34m\u001b[0m\u001b[0;34m\u001b[0m\u001b[0m\n\u001b[0m\u001b[1;32m   1448\u001b[0m \u001b[0;34m\u001b[0m\u001b[0m\n\u001b[1;32m   1449\u001b[0m         \u001b[0mbound\u001b[0m \u001b[0;34m=\u001b[0m \u001b[0mnew_sig\u001b[0m\u001b[0;34m.\u001b[0m\u001b[0mbind\u001b[0m\u001b[0;34m(\u001b[0m\u001b[0max\u001b[0m\u001b[0;34m,\u001b[0m \u001b[0;34m*\u001b[0m\u001b[0margs\u001b[0m\u001b[0;34m,\u001b[0m \u001b[0;34m**\u001b[0m\u001b[0mkwargs\u001b[0m\u001b[0;34m)\u001b[0m\u001b[0;34m\u001b[0m\u001b[0;34m\u001b[0m\u001b[0m\n",
      "\u001b[0;32m~/opt/anaconda3/lib/python3.8/site-packages/matplotlib/axes/_axes.py\u001b[0m in \u001b[0;36mhist\u001b[0;34m(self, x, bins, range, density, weights, cumulative, bottom, histtype, align, orientation, rwidth, log, color, label, stacked, **kwargs)\u001b[0m\n\u001b[1;32m   6574\u001b[0m         \u001b[0;31m# Process unit information\u001b[0m\u001b[0;34m\u001b[0m\u001b[0;34m\u001b[0m\u001b[0;34m\u001b[0m\u001b[0m\n\u001b[1;32m   6575\u001b[0m         \u001b[0;31m# Unit conversion is done individually on each dataset\u001b[0m\u001b[0;34m\u001b[0m\u001b[0;34m\u001b[0m\u001b[0;34m\u001b[0m\u001b[0m\n\u001b[0;32m-> 6576\u001b[0;31m         \u001b[0mself\u001b[0m\u001b[0;34m.\u001b[0m\u001b[0m_process_unit_info\u001b[0m\u001b[0;34m(\u001b[0m\u001b[0mxdata\u001b[0m\u001b[0;34m=\u001b[0m\u001b[0mx\u001b[0m\u001b[0;34m[\u001b[0m\u001b[0;36m0\u001b[0m\u001b[0;34m]\u001b[0m\u001b[0;34m,\u001b[0m \u001b[0mkwargs\u001b[0m\u001b[0;34m=\u001b[0m\u001b[0mkwargs\u001b[0m\u001b[0;34m)\u001b[0m\u001b[0;34m\u001b[0m\u001b[0;34m\u001b[0m\u001b[0m\n\u001b[0m\u001b[1;32m   6577\u001b[0m         \u001b[0mx\u001b[0m \u001b[0;34m=\u001b[0m \u001b[0;34m[\u001b[0m\u001b[0mself\u001b[0m\u001b[0;34m.\u001b[0m\u001b[0mconvert_xunits\u001b[0m\u001b[0;34m(\u001b[0m\u001b[0mxi\u001b[0m\u001b[0;34m)\u001b[0m \u001b[0;32mfor\u001b[0m \u001b[0mxi\u001b[0m \u001b[0;32min\u001b[0m \u001b[0mx\u001b[0m\u001b[0;34m]\u001b[0m\u001b[0;34m\u001b[0m\u001b[0;34m\u001b[0m\u001b[0m\n\u001b[1;32m   6578\u001b[0m \u001b[0;34m\u001b[0m\u001b[0m\n",
      "\u001b[0;32m~/opt/anaconda3/lib/python3.8/site-packages/matplotlib/axes/_base.py\u001b[0m in \u001b[0;36m_process_unit_info\u001b[0;34m(self, xdata, ydata, kwargs)\u001b[0m\n\u001b[1;32m   2187\u001b[0m             \u001b[0;32mreturn\u001b[0m \u001b[0mkwargs\u001b[0m\u001b[0;34m\u001b[0m\u001b[0;34m\u001b[0m\u001b[0m\n\u001b[1;32m   2188\u001b[0m \u001b[0;34m\u001b[0m\u001b[0m\n\u001b[0;32m-> 2189\u001b[0;31m         \u001b[0mkwargs\u001b[0m \u001b[0;34m=\u001b[0m \u001b[0m_process_single_axis\u001b[0m\u001b[0;34m(\u001b[0m\u001b[0mxdata\u001b[0m\u001b[0;34m,\u001b[0m \u001b[0mself\u001b[0m\u001b[0;34m.\u001b[0m\u001b[0mxaxis\u001b[0m\u001b[0;34m,\u001b[0m \u001b[0;34m'xunits'\u001b[0m\u001b[0;34m,\u001b[0m \u001b[0mkwargs\u001b[0m\u001b[0;34m)\u001b[0m\u001b[0;34m\u001b[0m\u001b[0;34m\u001b[0m\u001b[0m\n\u001b[0m\u001b[1;32m   2190\u001b[0m         \u001b[0mkwargs\u001b[0m \u001b[0;34m=\u001b[0m \u001b[0m_process_single_axis\u001b[0m\u001b[0;34m(\u001b[0m\u001b[0mydata\u001b[0m\u001b[0;34m,\u001b[0m \u001b[0mself\u001b[0m\u001b[0;34m.\u001b[0m\u001b[0myaxis\u001b[0m\u001b[0;34m,\u001b[0m \u001b[0;34m'yunits'\u001b[0m\u001b[0;34m,\u001b[0m \u001b[0mkwargs\u001b[0m\u001b[0;34m)\u001b[0m\u001b[0;34m\u001b[0m\u001b[0;34m\u001b[0m\u001b[0m\n\u001b[1;32m   2191\u001b[0m         \u001b[0;32mreturn\u001b[0m \u001b[0mkwargs\u001b[0m\u001b[0;34m\u001b[0m\u001b[0;34m\u001b[0m\u001b[0m\n",
      "\u001b[0;32m~/opt/anaconda3/lib/python3.8/site-packages/matplotlib/axes/_base.py\u001b[0m in \u001b[0;36m_process_single_axis\u001b[0;34m(data, axis, unit_name, kwargs)\u001b[0m\n\u001b[1;32m   2170\u001b[0m                 \u001b[0;31m# We only need to update if there is nothing set yet.\u001b[0m\u001b[0;34m\u001b[0m\u001b[0;34m\u001b[0m\u001b[0;34m\u001b[0m\u001b[0m\n\u001b[1;32m   2171\u001b[0m                 \u001b[0;32mif\u001b[0m \u001b[0;32mnot\u001b[0m \u001b[0maxis\u001b[0m\u001b[0;34m.\u001b[0m\u001b[0mhave_units\u001b[0m\u001b[0;34m(\u001b[0m\u001b[0;34m)\u001b[0m\u001b[0;34m:\u001b[0m\u001b[0;34m\u001b[0m\u001b[0;34m\u001b[0m\u001b[0m\n\u001b[0;32m-> 2172\u001b[0;31m                     \u001b[0maxis\u001b[0m\u001b[0;34m.\u001b[0m\u001b[0mupdate_units\u001b[0m\u001b[0;34m(\u001b[0m\u001b[0mdata\u001b[0m\u001b[0;34m)\u001b[0m\u001b[0;34m\u001b[0m\u001b[0;34m\u001b[0m\u001b[0m\n\u001b[0m\u001b[1;32m   2173\u001b[0m \u001b[0;34m\u001b[0m\u001b[0m\n\u001b[1;32m   2174\u001b[0m             \u001b[0;31m# Check for units in the kwargs, and if present update axis\u001b[0m\u001b[0;34m\u001b[0m\u001b[0;34m\u001b[0m\u001b[0;34m\u001b[0m\u001b[0m\n",
      "\u001b[0;32m~/opt/anaconda3/lib/python3.8/site-packages/matplotlib/axis.py\u001b[0m in \u001b[0;36mupdate_units\u001b[0;34m(self, data)\u001b[0m\n\u001b[1;32m   1464\u001b[0m         \u001b[0mneednew\u001b[0m \u001b[0;34m=\u001b[0m \u001b[0mself\u001b[0m\u001b[0;34m.\u001b[0m\u001b[0mconverter\u001b[0m \u001b[0;34m!=\u001b[0m \u001b[0mconverter\u001b[0m\u001b[0;34m\u001b[0m\u001b[0;34m\u001b[0m\u001b[0m\n\u001b[1;32m   1465\u001b[0m         \u001b[0mself\u001b[0m\u001b[0;34m.\u001b[0m\u001b[0mconverter\u001b[0m \u001b[0;34m=\u001b[0m \u001b[0mconverter\u001b[0m\u001b[0;34m\u001b[0m\u001b[0;34m\u001b[0m\u001b[0m\n\u001b[0;32m-> 1466\u001b[0;31m         \u001b[0mdefault\u001b[0m \u001b[0;34m=\u001b[0m \u001b[0mself\u001b[0m\u001b[0;34m.\u001b[0m\u001b[0mconverter\u001b[0m\u001b[0;34m.\u001b[0m\u001b[0mdefault_units\u001b[0m\u001b[0;34m(\u001b[0m\u001b[0mdata\u001b[0m\u001b[0;34m,\u001b[0m \u001b[0mself\u001b[0m\u001b[0;34m)\u001b[0m\u001b[0;34m\u001b[0m\u001b[0;34m\u001b[0m\u001b[0m\n\u001b[0m\u001b[1;32m   1467\u001b[0m         \u001b[0;32mif\u001b[0m \u001b[0mdefault\u001b[0m \u001b[0;32mis\u001b[0m \u001b[0;32mnot\u001b[0m \u001b[0;32mNone\u001b[0m \u001b[0;32mand\u001b[0m \u001b[0mself\u001b[0m\u001b[0;34m.\u001b[0m\u001b[0munits\u001b[0m \u001b[0;32mis\u001b[0m \u001b[0;32mNone\u001b[0m\u001b[0;34m:\u001b[0m\u001b[0;34m\u001b[0m\u001b[0;34m\u001b[0m\u001b[0m\n\u001b[1;32m   1468\u001b[0m             \u001b[0mself\u001b[0m\u001b[0;34m.\u001b[0m\u001b[0mset_units\u001b[0m\u001b[0;34m(\u001b[0m\u001b[0mdefault\u001b[0m\u001b[0;34m)\u001b[0m\u001b[0;34m\u001b[0m\u001b[0;34m\u001b[0m\u001b[0m\n",
      "\u001b[0;32m~/opt/anaconda3/lib/python3.8/site-packages/matplotlib/category.py\u001b[0m in \u001b[0;36mdefault_units\u001b[0;34m(data, axis)\u001b[0m\n\u001b[1;32m    105\u001b[0m         \u001b[0;31m# the conversion call stack is default_units -> axis_info -> convert\u001b[0m\u001b[0;34m\u001b[0m\u001b[0;34m\u001b[0m\u001b[0;34m\u001b[0m\u001b[0m\n\u001b[1;32m    106\u001b[0m         \u001b[0;32mif\u001b[0m \u001b[0maxis\u001b[0m\u001b[0;34m.\u001b[0m\u001b[0munits\u001b[0m \u001b[0;32mis\u001b[0m \u001b[0;32mNone\u001b[0m\u001b[0;34m:\u001b[0m\u001b[0;34m\u001b[0m\u001b[0;34m\u001b[0m\u001b[0m\n\u001b[0;32m--> 107\u001b[0;31m             \u001b[0maxis\u001b[0m\u001b[0;34m.\u001b[0m\u001b[0mset_units\u001b[0m\u001b[0;34m(\u001b[0m\u001b[0mUnitData\u001b[0m\u001b[0;34m(\u001b[0m\u001b[0mdata\u001b[0m\u001b[0;34m)\u001b[0m\u001b[0;34m)\u001b[0m\u001b[0;34m\u001b[0m\u001b[0;34m\u001b[0m\u001b[0m\n\u001b[0m\u001b[1;32m    108\u001b[0m         \u001b[0;32melse\u001b[0m\u001b[0;34m:\u001b[0m\u001b[0;34m\u001b[0m\u001b[0;34m\u001b[0m\u001b[0m\n\u001b[1;32m    109\u001b[0m             \u001b[0maxis\u001b[0m\u001b[0;34m.\u001b[0m\u001b[0munits\u001b[0m\u001b[0;34m.\u001b[0m\u001b[0mupdate\u001b[0m\u001b[0;34m(\u001b[0m\u001b[0mdata\u001b[0m\u001b[0;34m)\u001b[0m\u001b[0;34m\u001b[0m\u001b[0;34m\u001b[0m\u001b[0m\n",
      "\u001b[0;32m~/opt/anaconda3/lib/python3.8/site-packages/matplotlib/category.py\u001b[0m in \u001b[0;36m__init__\u001b[0;34m(self, data)\u001b[0m\n\u001b[1;32m    174\u001b[0m         \u001b[0mself\u001b[0m\u001b[0;34m.\u001b[0m\u001b[0m_counter\u001b[0m \u001b[0;34m=\u001b[0m \u001b[0mitertools\u001b[0m\u001b[0;34m.\u001b[0m\u001b[0mcount\u001b[0m\u001b[0;34m(\u001b[0m\u001b[0;34m)\u001b[0m\u001b[0;34m\u001b[0m\u001b[0;34m\u001b[0m\u001b[0m\n\u001b[1;32m    175\u001b[0m         \u001b[0;32mif\u001b[0m \u001b[0mdata\u001b[0m \u001b[0;32mis\u001b[0m \u001b[0;32mnot\u001b[0m \u001b[0;32mNone\u001b[0m\u001b[0;34m:\u001b[0m\u001b[0;34m\u001b[0m\u001b[0;34m\u001b[0m\u001b[0m\n\u001b[0;32m--> 176\u001b[0;31m             \u001b[0mself\u001b[0m\u001b[0;34m.\u001b[0m\u001b[0mupdate\u001b[0m\u001b[0;34m(\u001b[0m\u001b[0mdata\u001b[0m\u001b[0;34m)\u001b[0m\u001b[0;34m\u001b[0m\u001b[0;34m\u001b[0m\u001b[0m\n\u001b[0m\u001b[1;32m    177\u001b[0m \u001b[0;34m\u001b[0m\u001b[0m\n\u001b[1;32m    178\u001b[0m     \u001b[0;34m@\u001b[0m\u001b[0mstaticmethod\u001b[0m\u001b[0;34m\u001b[0m\u001b[0;34m\u001b[0m\u001b[0m\n",
      "\u001b[0;32m~/opt/anaconda3/lib/python3.8/site-packages/matplotlib/category.py\u001b[0m in \u001b[0;36mupdate\u001b[0;34m(self, data)\u001b[0m\n\u001b[1;32m    209\u001b[0m         \u001b[0;32mfor\u001b[0m \u001b[0mval\u001b[0m \u001b[0;32min\u001b[0m \u001b[0mOrderedDict\u001b[0m\u001b[0;34m.\u001b[0m\u001b[0mfromkeys\u001b[0m\u001b[0;34m(\u001b[0m\u001b[0mdata\u001b[0m\u001b[0;34m)\u001b[0m\u001b[0;34m:\u001b[0m\u001b[0;34m\u001b[0m\u001b[0;34m\u001b[0m\u001b[0m\n\u001b[1;32m    210\u001b[0m             \u001b[0;31m# OrderedDict just iterates over unique values in data.\u001b[0m\u001b[0;34m\u001b[0m\u001b[0;34m\u001b[0m\u001b[0;34m\u001b[0m\u001b[0m\n\u001b[0;32m--> 211\u001b[0;31m             \u001b[0mcbook\u001b[0m\u001b[0;34m.\u001b[0m\u001b[0m_check_isinstance\u001b[0m\u001b[0;34m(\u001b[0m\u001b[0;34m(\u001b[0m\u001b[0mstr\u001b[0m\u001b[0;34m,\u001b[0m \u001b[0mbytes\u001b[0m\u001b[0;34m)\u001b[0m\u001b[0;34m,\u001b[0m \u001b[0mvalue\u001b[0m\u001b[0;34m=\u001b[0m\u001b[0mval\u001b[0m\u001b[0;34m)\u001b[0m\u001b[0;34m\u001b[0m\u001b[0;34m\u001b[0m\u001b[0m\n\u001b[0m\u001b[1;32m    212\u001b[0m             \u001b[0;32mif\u001b[0m \u001b[0mconvertible\u001b[0m\u001b[0;34m:\u001b[0m\u001b[0;34m\u001b[0m\u001b[0;34m\u001b[0m\u001b[0m\n\u001b[1;32m    213\u001b[0m                 \u001b[0;31m# this will only be called so long as convertible is True.\u001b[0m\u001b[0;34m\u001b[0m\u001b[0;34m\u001b[0m\u001b[0;34m\u001b[0m\u001b[0m\n",
      "\u001b[0;32m~/opt/anaconda3/lib/python3.8/site-packages/matplotlib/cbook/__init__.py\u001b[0m in \u001b[0;36m_check_isinstance\u001b[0;34m(_types, **kwargs)\u001b[0m\n\u001b[1;32m   2244\u001b[0m     \u001b[0;32mfor\u001b[0m \u001b[0mk\u001b[0m\u001b[0;34m,\u001b[0m \u001b[0mv\u001b[0m \u001b[0;32min\u001b[0m \u001b[0mkwargs\u001b[0m\u001b[0;34m.\u001b[0m\u001b[0mitems\u001b[0m\u001b[0;34m(\u001b[0m\u001b[0;34m)\u001b[0m\u001b[0;34m:\u001b[0m\u001b[0;34m\u001b[0m\u001b[0;34m\u001b[0m\u001b[0m\n\u001b[1;32m   2245\u001b[0m         \u001b[0;32mif\u001b[0m \u001b[0;32mnot\u001b[0m \u001b[0misinstance\u001b[0m\u001b[0;34m(\u001b[0m\u001b[0mv\u001b[0m\u001b[0;34m,\u001b[0m \u001b[0mtypes\u001b[0m\u001b[0;34m)\u001b[0m\u001b[0;34m:\u001b[0m\u001b[0;34m\u001b[0m\u001b[0;34m\u001b[0m\u001b[0m\n\u001b[0;32m-> 2246\u001b[0;31m             raise TypeError(\n\u001b[0m\u001b[1;32m   2247\u001b[0m                 \"{!r} must be an instance of {}, not a {}\".format(\n\u001b[1;32m   2248\u001b[0m                     \u001b[0mk\u001b[0m\u001b[0;34m,\u001b[0m\u001b[0;34m\u001b[0m\u001b[0;34m\u001b[0m\u001b[0m\n",
      "\u001b[0;31mTypeError\u001b[0m: 'value' must be an instance of str or bytes, not a float"
     ]
    },
    {
     "data": {
      "image/png": "[encoded data removed]",
      "text/plain": [
       "<Figure size 432x288 with 1 Axes>"
      ]
     },
     "metadata": {
      "needs_background": "light"
     },
     "output_type": "display_data"
    }
   ],
   "source": [
    "plt.hist(met_art[met_art['Artist Begin Date']!=0]['Artist Begin Date'])\n",
    "plt.title('Number of Artists by Date of Birth')\n",
    "plt.show()"
   ]
  },
  {
   "cell_type": "markdown",
   "id": "77772a70",
   "metadata": {},
   "source": [
    "### Top 10 artists with the most artworks"
   ]
  },
  {
   "cell_type": "markdown",
   "id": "d6aaab19",
   "metadata": {},
   "source": [
    "전체 56,390명의 작가가 있다"
   ]
  },
  {
   "cell_type": "code",
   "execution_count": 21,
   "id": "b0fee63a",
   "metadata": {},
   "outputs": [
    {
     "data": {
      "text/plain": [
       "count           261111\n",
       "unique           56390\n",
       "top       Walker Evans\n",
       "freq              9659\n",
       "Name: Artist Display Name, dtype: object"
      ]
     },
     "execution_count": 21,
     "metadata": {},
     "output_type": "execute_result"
    }
   ],
   "source": [
    "met_art['Artist Display Name'].describe()"
   ]
  },
  {
   "cell_type": "markdown",
   "id": "c0418ee1",
   "metadata": {},
   "source": [
    "컬렉션 수가 가장 많은 10명의 작가들 중 Walker Evans의 작품이 9,659점으로 가장 많다"
   ]
  },
  {
   "cell_type": "code",
   "execution_count": 22,
   "id": "893c5251",
   "metadata": {
    "scrolled": true
   },
   "outputs": [
    {
     "data": {
      "text/plain": [
       "Walker Evans                 9659\n",
       "Kinney Brothers              4282\n",
       "Allen & Ginter               3184\n",
       "W. Duke, Sons & Co.          3148\n",
       "Goodwin & Company            2747\n",
       "Unknown                      2581\n",
       "Brewster & Co.               2296\n",
       "American Tobacco Company     1993\n",
       "Bowman Gum Company           1992\n",
       "Topps Chewing Gum Company    1232\n",
       "Name: Artist Display Name, dtype: int64"
      ]
     },
     "execution_count": 22,
     "metadata": {},
     "output_type": "execute_result"
    }
   ],
   "source": [
    "met_art['Artist Display Name'].value_counts()[:10]"
   ]
  },
  {
   "cell_type": "code",
   "execution_count": 23,
   "id": "d411dfef",
   "metadata": {},
   "outputs": [
    {
     "name": "stderr",
     "output_type": "stream",
     "text": [
      "/Users/jungwon/opt/anaconda3/lib/python3.8/site-packages/seaborn/_decorators.py:36: FutureWarning: Pass the following variables as keyword args: x, y. From version 0.12, the only valid positional argument will be `data`, and passing other arguments without an explicit keyword will result in an error or misinterpretation.\n",
      "  warnings.warn(\n"
     ]
    },
    {
     "data": {
      "image/png": "[encoded data removed]",
      "text/plain": [
       "<Figure size 720x360 with 1 Axes>"
      ]
     },
     "metadata": {
      "needs_background": "light"
     },
     "output_type": "display_data"
    }
   ],
   "source": [
    "plot_bar_chart(met_art, column=\"Artist Display Name\", title='Top 10 Artists with the Most Artworks')"
   ]
  },
  {
   "cell_type": "markdown",
   "id": "a5c50f81",
   "metadata": {},
   "source": [
    "## 6. Artworks"
   ]
  },
  {
   "cell_type": "markdown",
   "id": "1f45c8f2",
   "metadata": {},
   "source": [
    "### Artworks in the public domain"
   ]
  },
  {
   "cell_type": "markdown",
   "id": "83346e7b",
   "metadata": {},
   "source": [
    "절반 이상의 작품이 public domain이다"
   ]
  },
  {
   "cell_type": "code",
   "execution_count": 24,
   "id": "ca87301e",
   "metadata": {},
   "outputs": [
    {
     "data": {
      "text/plain": [
       "False    246004\n",
       "True     202199\n",
       "Name: Is Public Domain, dtype: int64"
      ]
     },
     "execution_count": 24,
     "metadata": {},
     "output_type": "execute_result"
    }
   ],
   "source": [
    "met_art['Is Public Domain'].value_counts()"
   ]
  },
  {
   "cell_type": "code",
   "execution_count": 25,
   "id": "d814e0f8",
   "metadata": {},
   "outputs": [
    {
     "data": {
      "image/png": "[encoded data removed]",
      "text/plain": [
       "<Figure size 432x288 with 1 Axes>"
      ]
     },
     "metadata": {},
     "output_type": "display_data"
    }
   ],
   "source": [
    "values = met_art['Is Public Domain'].value_counts()[:5].values\n",
    "labels = met_art['Is Public Domain'].value_counts()[:5].index\n",
    "\n",
    "plot_pie_chart(values, labels, \"Artworks in Public Domain\")"
   ]
  },
  {
   "cell_type": "markdown",
   "id": "4771933e",
   "metadata": {},
   "source": [
    "### Top artworks media"
   ]
  },
  {
   "cell_type": "code",
   "execution_count": 26,
   "id": "9295659d",
   "metadata": {
    "scrolled": true
   },
   "outputs": [
    {
     "data": {
      "text/plain": [
       "Commercial color lithograph    20209\n",
       "Etching                        15038\n",
       "Albumen photograph             10389\n",
       "Engraving                       9723\n",
       "Gelatin silver print            8961\n",
       "Silk                            8398\n",
       "Terracotta                      7299\n",
       "Bronze                          7265\n",
       "Glass                           6665\n",
       "Film negative                   6211\n",
       "Name: Medium, dtype: int64"
      ]
     },
     "execution_count": 26,
     "metadata": {},
     "output_type": "execute_result"
    }
   ],
   "source": [
    "met_art['Medium'].value_counts()[:10]"
   ]
  },
  {
   "cell_type": "code",
   "execution_count": 27,
   "id": "735806f6",
   "metadata": {},
   "outputs": [
    {
     "name": "stderr",
     "output_type": "stream",
     "text": [
      "/Users/jungwon/opt/anaconda3/lib/python3.8/site-packages/seaborn/_decorators.py:36: FutureWarning: Pass the following variables as keyword args: x, y. From version 0.12, the only valid positional argument will be `data`, and passing other arguments without an explicit keyword will result in an error or misinterpretation.\n",
      "  warnings.warn(\n"
     ]
    },
    {
     "data": {
      "image/png": "[encoded data removed]",
      "text/plain": [
       "<Figure size 720x360 with 1 Axes>"
      ]
     },
     "metadata": {
      "needs_background": "light"
     },
     "output_type": "display_data"
    }
   ],
   "source": [
    "plot_bar_chart(met_art, column='Medium', title=\"Top 10 Artworks Media\")"
   ]
  },
  {
   "cell_type": "markdown",
   "id": "9886f6e0",
   "metadata": {},
   "source": [
    "### Artworks by department"
   ]
  },
  {
   "cell_type": "code",
   "execution_count": 28,
   "id": "a70f1f52",
   "metadata": {},
   "outputs": [
    {
     "data": {
      "text/plain": [
       "Drawings and Prints                          154445\n",
       "European Sculpture and Decorative Arts        42528\n",
       "Asian Art                                     36727\n",
       "Photographs                                   36258\n",
       "Costume Institute                             33681\n",
       "Egyptian Art                                  27542\n",
       "Greek and Roman Art                           17292\n",
       "Islamic Art                                   15082\n",
       "Modern and Contemporary Art                   13991\n",
       "Arms and Armor                                13486\n",
       "Arts of Africa, Oceania, and the Americas     12427\n",
       "American Decorative Arts                      12330\n",
       "Medieval Art                                   7343\n",
       "Ancient Near Eastern Art                       6185\n",
       "American Paintings and Sculpture               5451\n",
       "Musical Instruments                            5303\n",
       "European Paintings                             2760\n",
       "The Cloisters                                  2628\n",
       "Robert Lehman Collection                       2589\n",
       "The Libraries                                   155\n",
       "Name: Department, dtype: int64"
      ]
     },
     "execution_count": 28,
     "metadata": {},
     "output_type": "execute_result"
    }
   ],
   "source": [
    "met_art['Department'].value_counts()"
   ]
  },
  {
   "cell_type": "code",
   "execution_count": 29,
   "id": "4679ec15",
   "metadata": {},
   "outputs": [
    {
     "name": "stderr",
     "output_type": "stream",
     "text": [
      "/Users/jungwon/opt/anaconda3/lib/python3.8/site-packages/seaborn/_decorators.py:36: FutureWarning: Pass the following variables as keyword args: x, y. From version 0.12, the only valid positional argument will be `data`, and passing other arguments without an explicit keyword will result in an error or misinterpretation.\n",
      "  warnings.warn(\n"
     ]
    },
    {
     "data": {
      "image/png": "[encoded data removed]",
      "text/plain": [
       "<Figure size 720x360 with 1 Axes>"
      ]
     },
     "metadata": {
      "needs_background": "light"
     },
     "output_type": "display_data"
    }
   ],
   "source": [
    "plot_bar_chart(met_art, column='Department', title=\"Top 10 Departments with Largest Collections\")"
   ]
  },
  {
   "cell_type": "markdown",
   "id": "c1f7283e",
   "metadata": {},
   "source": [
    "### Top artworks classification"
   ]
  },
  {
   "cell_type": "code",
   "execution_count": 30,
   "id": "c132aeb8",
   "metadata": {},
   "outputs": [
    {
     "data": {
      "text/plain": [
       "Prints                  69260\n",
       "Prints|Ephemera         30033\n",
       "Photographs             26821\n",
       "Drawings                25230\n",
       "Books                   14685\n",
       "Ceramics                13332\n",
       "Paintings               11038\n",
       "Textiles-Woven          10995\n",
       "Photographs|Ephemera    10940\n",
       "Glass                    8838\n",
       "Name: Classification, dtype: int64"
      ]
     },
     "execution_count": 30,
     "metadata": {},
     "output_type": "execute_result"
    }
   ],
   "source": [
    "met_art['Classification'].value_counts()[:10]"
   ]
  },
  {
   "cell_type": "code",
   "execution_count": 31,
   "id": "2bfc332a",
   "metadata": {},
   "outputs": [
    {
     "name": "stderr",
     "output_type": "stream",
     "text": [
      "/Users/jungwon/opt/anaconda3/lib/python3.8/site-packages/seaborn/_decorators.py:36: FutureWarning: Pass the following variables as keyword args: x, y. From version 0.12, the only valid positional argument will be `data`, and passing other arguments without an explicit keyword will result in an error or misinterpretation.\n",
      "  warnings.warn(\n"
     ]
    },
    {
     "data": {
      "image/png": "[encoded data removed]",
      "text/plain": [
       "<Figure size 720x360 with 1 Axes>"
      ]
     },
     "metadata": {
      "needs_background": "light"
     },
     "output_type": "display_data"
    }
   ],
   "source": [
    "plot_bar_chart(met_art, column='Classification', title=\"Artworks by Classification\")"
   ]
  },
  {
   "cell_type": "markdown",
   "id": "7c4694ce",
   "metadata": {},
   "source": [
    "### Artworks by country and culture"
   ]
  },
  {
   "cell_type": "code",
   "execution_count": 32,
   "id": "ef6069d5",
   "metadata": {},
   "outputs": [
    {
     "data": {
      "text/plain": [
       "Egypt              30914\n",
       "United States       8501\n",
       "Iran                5886\n",
       "Peru                3422\n",
       "Byzantine Egypt     1673\n",
       "France              1670\n",
       "Mexico              1537\n",
       "India               1440\n",
       "Indonesia           1394\n",
       "England             1059\n",
       "Name: Country, dtype: int64"
      ]
     },
     "execution_count": 32,
     "metadata": {},
     "output_type": "execute_result"
    }
   ],
   "source": [
    "met_art['Country'].value_counts()[:10]"
   ]
  },
  {
   "cell_type": "code",
   "execution_count": 33,
   "id": "136a7108",
   "metadata": {},
   "outputs": [
    {
     "data": {
      "image/png": "[encoded data removed]",
      "text/plain": [
       "<Figure size 432x288 with 1 Axes>"
      ]
     },
     "metadata": {},
     "output_type": "display_data"
    }
   ],
   "source": [
    "values = met_art['Country'].value_counts()[:5].values\n",
    "labels = met_art['Country'].value_counts()[:5].index\n",
    "\n",
    "plot_pie_chart(values, labels, \"Top 5 Countries of Artworks\")"
   ]
  },
  {
   "cell_type": "code",
   "execution_count": 34,
   "id": "55d8e05c",
   "metadata": {},
   "outputs": [
    {
     "data": {
      "image/png": "[encoded data removed]",
      "text/plain": [
       "<Figure size 432x288 with 1 Axes>"
      ]
     },
     "metadata": {},
     "output_type": "display_data"
    }
   ],
   "source": [
    "values = met_art['Culture'].value_counts()[:5].values\n",
    "labels = met_art['Culture'].value_counts()[:5].index\n",
    "\n",
    "plot_pie_chart(values, labels, \"Top 5 Culture of Artworks\")"
   ]
  }
 ],
 "metadata": {
  "kernelspec": {
   "display_name": "Python 3",
   "language": "python",
   "name": "python3"
  },
  "language_info": {
   "codemirror_mode": {
    "name": "ipython",
    "version": 3
   },
   "file_extension": ".py",
   "mimetype": "text/x-python",
   "name": "python",
   "nbconvert_exporter": "python",
   "pygments_lexer": "ipython3",
   "version": "3.8.8"
  }
 },
 "nbformat": 4,
 "nbformat_minor": 5
}
